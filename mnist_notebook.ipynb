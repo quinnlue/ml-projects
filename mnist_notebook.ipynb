{
 "cells": [
  {
   "cell_type": "code",
   "execution_count": 167,
   "metadata": {},
   "outputs": [],
   "source": [
    "import torch\n",
    "import torch.nn as nn\n",
    "from torch.utils.data import DataLoader\n",
    "import torch.nn.functional as F\n",
    "from torchvision.transforms import ToTensor\n",
    "from torchvision import datasets\n",
    "from torch.optim import Adam"
   ]
  },
  {
   "cell_type": "code",
   "execution_count": 168,
   "metadata": {},
   "outputs": [
    {
     "name": "stdout",
     "output_type": "stream",
     "text": [
      "60000 10000\n"
     ]
    }
   ],
   "source": [
    "train_data = datasets.FashionMNIST(\n",
    "    root=\"data\",\n",
    "    train=True,\n",
    "    download=True,\n",
    "    transform=ToTensor())\n",
    "\n",
    "test_data = datasets.FashionMNIST(\n",
    "    root='data',\n",
    "    train=False,\n",
    "    download=True,\n",
    "    transform=ToTensor())\n",
    "\n",
    "print(len(train_data), len(test_data))\n",
    "\n"
   ]
  },
  {
   "cell_type": "code",
   "execution_count": 169,
   "metadata": {},
   "outputs": [],
   "source": [
    "train_set = DataLoader(train_data, batch_size=10, shuffle=True)\n",
    "test_set = DataLoader(test_data, batch_size=10000, shuffle=False)"
   ]
  },
  {
   "cell_type": "code",
   "execution_count": 170,
   "metadata": {},
   "outputs": [],
   "source": [
    "class Net(nn.Module):\n",
    "    def __init__(self) -> None:\n",
    "        super(Net, self).__init__()\n",
    "        self.conv1 = nn.Conv2d(1, 16, 3)\n",
    "        self.conv2 = nn.Conv2d(16, 64, 3)\n",
    "        self.fc1 = nn.Linear(9216, 64)\n",
    "        self.fc2 = nn.Linear(64, 10)\n",
    "        self.softmax = nn.Softmax(dim=1)\n",
    "        self.dropout1 = nn.Dropout(0.5)\n",
    "        self.dropout2 = nn.Dropout(0.25)\n",
    "\n",
    "    def forward(self, X):\n",
    "        x = self.conv1(X)\n",
    "        x = F.relu(x)\n",
    "        x = self.conv2(x)\n",
    "        x = F.relu(x)\n",
    "        x = F.max_pool2d(x, 2)\n",
    "        x = self.dropout1(x)\n",
    "        x = torch.flatten(x, 1)\n",
    "\n",
    "\n",
    "        x = self.fc1(x)\n",
    "        x = F.relu(x)\n",
    "        x = self.dropout2(x)\n",
    "        x = self.fc2(x)\n",
    "        output = F.log_softmax(x, dim=1)\n",
    "\n",
    "        return output"
   ]
  },
  {
   "cell_type": "code",
   "execution_count": 171,
   "metadata": {},
   "outputs": [],
   "source": [
    "model = Net()\n",
    "loss = nn.CrossEntropyLoss()\n",
    "optimizer = Adam(model.parameters(), lr=0.001)\n",
    "num_epochs = 10\n"
   ]
  },
  {
   "cell_type": "code",
   "execution_count": 172,
   "metadata": {},
   "outputs": [],
   "source": [
    "def test_model():\n",
    "    model.eval()\n",
    "    total = 0.0\n",
    "    correct = 0.0\n",
    "    \n",
    "    with torch.no_grad():\n",
    "        for data, target in test_set:\n",
    "            y_pred = model(data)\n",
    "            _, predicted = torch.max(y_pred, 1)\n",
    "            cost = loss(y_pred , target)\n",
    "            total += target.size(0)\n",
    "            correct += (predicted ==target).sum().item()\n",
    "\n",
    "    accuracy = round(correct / total * 100, 2)\n",
    "\n",
    "    return cost , accuracy"
   ]
  },
  {
   "cell_type": "code",
   "execution_count": 173,
   "metadata": {},
   "outputs": [
    {
     "name": "stdout",
     "output_type": "stream",
     "text": [
      "10% done -- Test Cost: 0.32812 -- Test Accuracy: 88.4%\n",
      "20% done -- Test Cost: 0.28436 -- Test Accuracy: 89.73%\n",
      "30% done -- Test Cost: 0.25531 -- Test Accuracy: 90.75%\n",
      "40% done -- Test Cost: 0.27221 -- Test Accuracy: 90.1%\n",
      "50% done -- Test Cost: 0.24238 -- Test Accuracy: 91.26%\n",
      "60% done -- Test Cost: 0.23522 -- Test Accuracy: 91.4%\n",
      "70% done -- Test Cost: 0.23701 -- Test Accuracy: 91.43%\n",
      "80% done -- Test Cost: 0.23192 -- Test Accuracy: 91.81%\n",
      "90% done -- Test Cost: 0.23748 -- Test Accuracy: 91.94%\n",
      "100% done -- Test Cost: 0.243 -- Test Accuracy: 91.65%\n"
     ]
    }
   ],
   "source": [
    "for i in range(num_epochs):\n",
    "    model.train()\n",
    "    for batch_idx, (data, target) in enumerate(train_set):\n",
    "\n",
    "        y_pred = model(data)\n",
    "\n",
    "        cost = loss(y_pred , target)\n",
    "\n",
    "        cost.backward()\n",
    "        optimizer.step()\n",
    "        optimizer.zero_grad()\n",
    "\n",
    "        \n",
    "    test_cost , accuracy = test_model()\n",
    "    print(f'{int((i+1)*10)}% done -- Test Cost: {round(float(test_cost),5)} -- Test Accuracy: {accuracy}%')\n",
    "    \n"
   ]
  },
  {
   "cell_type": "markdown",
   "metadata": {},
   "source": []
  },
  {
   "cell_type": "code",
   "execution_count": 174,
   "metadata": {},
   "outputs": [
    {
     "data": {
      "text/plain": [
       "(tensor(0.2430), 91.65)"
      ]
     },
     "execution_count": 174,
     "metadata": {},
     "output_type": "execute_result"
    }
   ],
   "source": [
    "\n",
    "test_model()"
   ]
  },
  {
   "cell_type": "code",
   "execution_count": null,
   "metadata": {},
   "outputs": [],
   "source": []
  }
 ],
 "metadata": {
  "kernelspec": {
   "display_name": "Python 3",
   "language": "python",
   "name": "python3"
  },
  "language_info": {
   "codemirror_mode": {
    "name": "ipython",
    "version": 3
   },
   "file_extension": ".py",
   "mimetype": "text/x-python",
   "name": "python",
   "nbconvert_exporter": "python",
   "pygments_lexer": "ipython3",
   "version": "3.11.5"
  }
 },
 "nbformat": 4,
 "nbformat_minor": 2
}
